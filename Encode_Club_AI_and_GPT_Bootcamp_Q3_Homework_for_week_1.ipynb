{
  "cells": [
    {
      "cell_type": "markdown",
      "metadata": {
        "colab_type": "text",
        "id": "view-in-github"
      },
      "source": [
        "<a href=\"https://colab.research.google.com/github/LuisJoseSanchez/encode-club-ai-and-gpt-bootcamp-q3-homework-week1/blob/master/Encode_Club_AI_and_GPT_Bootcamp_Q3_Homework_for_week_1.ipynb\" target=\"_parent\"><img src=\"https://colab.research.google.com/assets/colab-badge.svg\" alt=\"Open In Colab\"/></a>"
      ]
    },
    {
      "cell_type": "markdown",
      "metadata": {
        "id": "jbTv9_oaNP7S"
      },
      "source": [
        "# AI and GPT Bootcamp. Homework for week 1"
      ]
    },
    {
      "cell_type": "markdown",
      "metadata": {
        "id": "XPlWp7PMYoM-"
      },
      "source": [
        "## OpenAI Setup"
      ]
    },
    {
      "cell_type": "code",
      "execution_count": 1,
      "metadata": {
        "colab": {
          "base_uri": "https://localhost:8080/"
        },
        "id": "5mdLSk47JVQ6",
        "outputId": "64ece2d7-b1ca-4109-e255-105d627acc42"
      },
      "outputs": [
        {
          "name": "stdout",
          "output_type": "stream",
          "text": [
            "Collecting openai\n",
            "  Downloading openai-1.42.0-py3-none-any.whl.metadata (22 kB)\n",
            "Requirement already satisfied: anyio<5,>=3.5.0 in /usr/local/lib/python3.10/dist-packages (from openai) (3.7.1)\n",
            "Requirement already satisfied: distro<2,>=1.7.0 in /usr/lib/python3/dist-packages (from openai) (1.7.0)\n",
            "Collecting httpx<1,>=0.23.0 (from openai)\n",
            "  Downloading httpx-0.27.0-py3-none-any.whl.metadata (7.2 kB)\n",
            "Collecting jiter<1,>=0.4.0 (from openai)\n",
            "  Downloading jiter-0.5.0-cp310-cp310-manylinux_2_17_x86_64.manylinux2014_x86_64.whl.metadata (3.6 kB)\n",
            "Requirement already satisfied: pydantic<3,>=1.9.0 in /usr/local/lib/python3.10/dist-packages (from openai) (2.8.2)\n",
            "Requirement already satisfied: sniffio in /usr/local/lib/python3.10/dist-packages (from openai) (1.3.1)\n",
            "Requirement already satisfied: tqdm>4 in /usr/local/lib/python3.10/dist-packages (from openai) (4.66.5)\n",
            "Requirement already satisfied: typing-extensions<5,>=4.11 in /usr/local/lib/python3.10/dist-packages (from openai) (4.12.2)\n",
            "Requirement already satisfied: idna>=2.8 in /usr/local/lib/python3.10/dist-packages (from anyio<5,>=3.5.0->openai) (3.7)\n",
            "Requirement already satisfied: exceptiongroup in /usr/local/lib/python3.10/dist-packages (from anyio<5,>=3.5.0->openai) (1.2.2)\n",
            "Requirement already satisfied: certifi in /usr/local/lib/python3.10/dist-packages (from httpx<1,>=0.23.0->openai) (2024.7.4)\n",
            "Collecting httpcore==1.* (from httpx<1,>=0.23.0->openai)\n",
            "  Downloading httpcore-1.0.5-py3-none-any.whl.metadata (20 kB)\n",
            "Collecting h11<0.15,>=0.13 (from httpcore==1.*->httpx<1,>=0.23.0->openai)\n",
            "  Downloading h11-0.14.0-py3-none-any.whl.metadata (8.2 kB)\n",
            "Requirement already satisfied: annotated-types>=0.4.0 in /usr/local/lib/python3.10/dist-packages (from pydantic<3,>=1.9.0->openai) (0.7.0)\n",
            "Requirement already satisfied: pydantic-core==2.20.1 in /usr/local/lib/python3.10/dist-packages (from pydantic<3,>=1.9.0->openai) (2.20.1)\n",
            "Downloading openai-1.42.0-py3-none-any.whl (362 kB)\n",
            "\u001b[2K   \u001b[90m━━━━━━━━━━━━━━━━━━━━━━━━━━━━━━━━━━━━━━━━\u001b[0m \u001b[32m362.9/362.9 kB\u001b[0m \u001b[31m9.2 MB/s\u001b[0m eta \u001b[36m0:00:00\u001b[0m\n",
            "\u001b[?25hDownloading httpx-0.27.0-py3-none-any.whl (75 kB)\n",
            "\u001b[2K   \u001b[90m━━━━━━━━━━━━━━━━━━━━━━━━━━━━━━━━━━━━━━━━\u001b[0m \u001b[32m75.6/75.6 kB\u001b[0m \u001b[31m3.2 MB/s\u001b[0m eta \u001b[36m0:00:00\u001b[0m\n",
            "\u001b[?25hDownloading httpcore-1.0.5-py3-none-any.whl (77 kB)\n",
            "\u001b[2K   \u001b[90m━━━━━━━━━━━━━━━━━━━━━━━━━━━━━━━━━━━━━━━━\u001b[0m \u001b[32m77.9/77.9 kB\u001b[0m \u001b[31m2.3 MB/s\u001b[0m eta \u001b[36m0:00:00\u001b[0m\n",
            "\u001b[?25hDownloading jiter-0.5.0-cp310-cp310-manylinux_2_17_x86_64.manylinux2014_x86_64.whl (318 kB)\n",
            "\u001b[2K   \u001b[90m━━━━━━━━━━━━━━━━━━━━━━━━━━━━━━━━━━━━━━━━\u001b[0m \u001b[32m318.9/318.9 kB\u001b[0m \u001b[31m15.6 MB/s\u001b[0m eta \u001b[36m0:00:00\u001b[0m\n",
            "\u001b[?25hDownloading h11-0.14.0-py3-none-any.whl (58 kB)\n",
            "\u001b[2K   \u001b[90m━━━━━━━━━━━━━━━━━━━━━━━━━━━━━━━━━━━━━━━━\u001b[0m \u001b[32m58.3/58.3 kB\u001b[0m \u001b[31m2.9 MB/s\u001b[0m eta \u001b[36m0:00:00\u001b[0m\n",
            "\u001b[?25hInstalling collected packages: jiter, h11, httpcore, httpx, openai\n",
            "Successfully installed h11-0.14.0 httpcore-1.0.5 httpx-0.27.0 jiter-0.5.0 openai-1.42.0\n"
          ]
        }
      ],
      "source": [
        "# Install openai API package\n",
        "!pip install openai"
      ]
    },
    {
      "cell_type": "code",
      "execution_count": 2,
      "metadata": {
        "id": "O_5z5WC_XibQ"
      },
      "outputs": [],
      "source": [
        "# Import the openai module\n",
        "from openai import OpenAI"
      ]
    },
    {
      "cell_type": "code",
      "execution_count": 3,
      "metadata": {
        "id": "KsMbdc8YNx3B"
      },
      "outputs": [],
      "source": [
        "# Create a new client instance\n",
        "client = OpenAI(api_key=\"XXXXXXXXXXXXXXXXXXXXXXXXXXX\")"
      ]
    },
    {
      "cell_type": "code",
      "execution_count": null,
      "metadata": {},
      "outputs": [],
      "source": [
        "# function generates the appropriate prompt based on the user's input.\n",
        "def handle_input(option, user_input):\n",
        "    if option == \"2\":  # Ingredient-based\n",
        "        return f\"How about trying these dishes with {user_input}: ...\"\n",
        "    elif option == \"1\":  # Dish name request\n",
        "        return f\"Here is a detailed recipe for {user_input}: ...\"\n",
        "    elif option == \"3\":  # Recipe critique\n",
        "        return f\"Here's my feedback on the recipe for {user_input}: ...\"\n",
        "    else:\n",
        "        return \"I can help with ingredient-based suggestions, recipe requests, or critiques. What would you like to do?\""
      ]
    },
    {
      "cell_type": "markdown",
      "metadata": {
        "id": "aswWr48pYzSE"
      },
      "source": [
        "## Messages"
      ]
    },
    {
      "cell_type": "code",
      "execution_count": 4,
      "metadata": {
        "id": "UOExFtSMY169"
      },
      "outputs": [],
      "source": [
        "# Set the first message\n",
        "messages = [\n",
        "  {\n",
        "    \"role\": \"system\",\n",
        "    \"content\": \"You are an Spanish experienced chef specializing in vegetarian \\\n",
        "                cuisine. You are willing to help people by suggesting \\\n",
        "                detailed vegetarian recipes for dishes they want to cook. \\\n",
        "                If someone asks you about dishes or ingredients related to \\\n",
        "                meat or fish, politely tell them that you only handle \\\n",
        "                inquiries about vegetarian cuisine.\",\n",
        "  }\n",
        "]"
      ]
    },
    {
      "cell_type": "code",
      "execution_count": 6,
      "metadata": {
        "id": "w-5MZGOScVcE"
      },
      "outputs": [],
      "source": [
        "# Add another system instruction\n",
        "messages.append(\n",
        "  {\n",
        "    \"role\": \"system\",\n",
        "    \"content\": \"The client will ask you one of these three topics: \\\n",
        "                ingredient-based dish suggestions, recipe requests for \\\n",
        "                specific dishes or recipe critiques and improvement \\\n",
        "                suggestions. If you don't know the dish or the \\\n",
        "                ingredient, you should answer that you don't know the \\\n",
        "                dish or ingredient and end the conversation.\",\n",
        "  }\n",
        ")"
      ]
    },
    {
      "cell_type": "code",
      "execution_count": 7,
      "metadata": {
        "id": "RZV_sRHCeZ75"
      },
      "outputs": [],
      "source": [
        "# More instructions\n",
        "messages.append(\n",
        "  {\n",
        "    \"role\": \"system\",\n",
        "    \"content\": \"If the client tell you an ingredient, suggest only dish \\\n",
        "                names without full recipes. If you are asked for dish \\\n",
        "                name then provide a detailed recipe. If the client tells \\\n",
        "                you a recipe, offer suggested improvements.\",\n",
        "  }\n",
        ")"
      ]
    },
    {
      "cell_type": "code",
      "execution_count": 8,
      "metadata": {
        "id": "vvehKmXleZwp"
      },
      "outputs": [],
      "source": [
        "# Specify the model used\n",
        "model = \"gpt-4o-mini\""
      ]
    },
    {
      "cell_type": "code",
      "execution_count": 9,
      "metadata": {
        "colab": {
          "base_uri": "https://localhost:8080/"
        },
        "id": "FEzLKzbRgWeW",
        "outputId": "df18377d-63d9-45aa-9d82-a70ae7a1242c"
      },
      "outputs": [
        {
          "name": "stdout",
          "output_type": "stream",
          "text": [
            "1. I want the recipe for an specific dish\n",
            "2. I want a recipe for an specific ingredient\n",
            "3. I want suggestions to improve a recipe that I know\n",
            "Choose an option (1-3):77\n",
            "Invalid option. Please choose 1, 2, or 3.\n",
            "1. I want the recipe for an specific dish\n",
            "2. I want a recipe for an specific ingredient\n",
            "3. I want suggestions to improve a recipe that I know\n",
            "Choose an option (1-3):1\n"
          ]
        }
      ],
      "source": [
        "# Menu\n",
        "while True:\n",
        "  print(\"1. I want the recipe for an specific dish\")\n",
        "  print(\"2. I want a recipe for an specific ingredient\")\n",
        "  print(\"3. I want suggestions to improve a recipe that I know\")\n",
        "  option = input(\"Choose an option (1-3): \")\n",
        "\n",
        "  if option in [\"1\", \"2\", \"3\"]:\n",
        "    break\n",
        "  else:\n",
        "    print(\"Invalid option. Please choose 1, 2, or 3.\")"
      ]
    },
    {
      "cell_type": "code",
      "execution_count": 10,
      "metadata": {
        "colab": {
          "base_uri": "https://localhost:8080/"
        },
        "id": "fw_dF3yqidSS",
        "outputId": "418ba9b6-9815-4a9d-b935-02f3555c7863"
      },
      "outputs": [
        {
          "name": "stdout",
          "output_type": "stream",
          "text": [
            "Enter the name of the dish you want the recipe for:spanish omelette\n"
          ]
        }
      ],
      "source": [
        "# Make the prompt\n",
        "if option == \"1\":\n",
        "  dish = input(\"Enter the name of the dish you want the recipe for: \")\n",
        "  prompt = f\"Suggest a detailed recipe for {dish}.\"\n",
        "elif option == \"2\":\n",
        "  ingredient = input(\"Enter the name of the ingredient you want a recipe for: \")\n",
        "  prompt = f\"Suggest a detailed recipe for {ingredient}.\"\n",
        "else:\n",
        "  recipe = input(\"Enter the recipe you want to improve: \")\n",
        "  prompt = f\"Suggest improvements to the following recipe: {recipe}.\""
      ]
    },
    {
      "cell_type": "code",
      "execution_count": null,
      "metadata": {},
      "outputs": [],
      "source": [
        "# Generate the prompt using the handle_input function\n",
        "prompt = handle_input(option, user_input)"
      ]
    },
    {
      "cell_type": "code",
      "execution_count": 11,
      "metadata": {
        "id": "VEo_Nqc1jQeY"
      },
      "outputs": [],
      "source": [
        "# Add the user message\n",
        "messages.append(\n",
        "  {\n",
        "    \"role\": \"user\",\n",
        "    \"content\": prompt,\n",
        "  }\n",
        ")"
      ]
    },
    {
      "cell_type": "code",
      "execution_count": 12,
      "metadata": {
        "id": "1DZHCVJ9j0f2"
      },
      "outputs": [],
      "source": [
        "# Make the API call\n",
        "response = client.chat.completions.create(\n",
        "  model=model,\n",
        "  messages=messages,\n",
        ")"
      ]
    },
    {
      "cell_type": "code",
      "execution_count": 13,
      "metadata": {
        "colab": {
          "base_uri": "https://localhost:8080/"
        },
        "id": "69alDP7TkLfD",
        "outputId": "567a3e18-c0ac-4b6b-9a49-699297184c55"
      },
      "outputs": [
        {
          "name": "stdout",
          "output_type": "stream",
          "text": [
            "Sure! Here’s a detailed recipe for a classic Spanish omelette, also known as \"Tortilla Española.\"\n",
            "\n",
            "### Ingredients:\n",
            "- 4 medium-sized potatoes\n",
            "- 1 medium onion (optional)\n",
            "- 6 large eggs\n",
            "- Olive oil\n",
            "- Salt\n",
            "- Pepper\n",
            "\n",
            "### Instructions:\n",
            "\n",
            "1. **Prepare Potatoes and Onion**:\n",
            "   - Peel the potatoes and slice them thinly (about 1/8 inch thick).\n",
            "   - If you're using onion, chop it finely.\n",
            "\n",
            "2. **Cook Potatoes and Onion**:\n",
            "   - Heat a generous amount of olive oil in a large frying pan over medium heat. You want enough oil to cover the bottom of the pan.\n",
            "   - Once the oil is hot, add the sliced potatoes and cook them gently. Stir occasionally, and cook for about 20 minutes until they are soft but not browned.\n",
            "   - If using onion, add it to the potatoes about halfway through cooking, and stir until the onion is translucent.\n",
            "\n",
            "3. **Beat the Eggs**:\n",
            "   - While the potatoes are cooking, crack the eggs into a large bowl. Add a pinch of salt and pepper, then whisk until well combined.\n",
            "\n",
            "4. **Combine Potatoes with Eggs**:\n",
            "   - Once the potatoes (and onion, if used) are cooked, use a slotted spoon to transfer them to the bowl with beaten eggs. Mix gently to combine, making sure the potatoes are coated with the egg.\n",
            "\n",
            "5. **Cook the Omelette**:\n",
            "   - Remove most of the oil from the frying pan, leaving just enough to coat the bottom. Heat the pan over medium heat.\n",
            "   - Pour the potato and egg mixture into the pan, spreading it evenly. Cook for about 5-7 minutes, or until the bottom is set and lightly browned.\n",
            "   - To flip the omelette, place a large plate over the pan and carefully invert the omelette onto the plate. Slide it back into the pan to cook the other side for another 5-7 minutes.\n",
            "\n",
            "6. **Finish and Serve**:\n",
            "   - Once both sides are golden and the omelette is cooked through, slide it onto a serving plate.\n",
            "   - Let it cool for a few minutes, then slice into wedges and serve. It can be enjoyed warm or at room temperature.\n",
            "\n",
            "### Tips for Improvement:\n",
            "- **Variations**: Try adding veggies like bell peppers, herbs, or even cheese for different flavors.\n",
            "- **Cooking Method**: Some people prefer to bake the tortilla in the oven for a less oily version.\n",
            "- **Presentation**: Serve with a fresh side salad or a drizzle of aioli for added flavor.\n",
            "\n",
            "Enjoy your Spanish omelette!\n"
          ]
        }
      ],
      "source": [
        "# Show the result\n",
        "for choice in response.choices:\n",
        "  print(choice.message.content)"
      ]
    }
  ],
  "metadata": {
    "colab": {
      "authorship_tag": "ABX9TyMRDap9wKqnLx7M5rxEoTy4",
      "include_colab_link": true,
      "provenance": []
    },
    "kernelspec": {
      "display_name": "Python 3",
      "name": "python3"
    },
    "language_info": {
      "name": "python"
    }
  },
  "nbformat": 4,
  "nbformat_minor": 0
}
