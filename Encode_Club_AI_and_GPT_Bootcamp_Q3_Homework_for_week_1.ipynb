{
  "cells": [
    {
      "cell_type": "markdown",
      "metadata": {},
      "source": [
        "<a href=\"https://colab.research.google.com/github/LuisJoseSanchez/encode-club-ai-and-gpt-bootcamp-q3-homework-week1/blob/master/Encode_Club_AI_and_GPT_Bootcamp_Q3_Homework_for_week_1.ipynb\" target=\"_parent\"><img src=\"https://colab.research.google.com/assets/colab-badge.svg\" alt=\"Open In Colab\"/></a>"
      ]
    },
    {
      "cell_type": "markdown",
      "metadata": {
        "id": "jbTv9_oaNP7S"
      },
      "source": [
        "# AI and GPT Bootcamp. Homework for week 1"
      ]
    },
    {
      "cell_type": "markdown",
      "metadata": {
        "id": "XPlWp7PMYoM-"
      },
      "source": [
        "## OpenAI Setup"
      ]
    },
    {
      "cell_type": "code",
      "execution_count": 1,
      "metadata": {
        "colab": {
          "base_uri": "https://localhost:8080/"
        },
        "id": "5mdLSk47JVQ6",
        "outputId": "0fe30fad-af65-4556-e052-b41cef38ee32"
      },
      "outputs": [
        {
          "name": "stdout",
          "output_type": "stream",
          "text": [
            "Collecting openai\n",
            "  Downloading openai-1.42.0-py3-none-any.whl.metadata (22 kB)\n",
            "Requirement already satisfied: anyio<5,>=3.5.0 in /usr/local/lib/python3.10/dist-packages (from openai) (3.7.1)\n",
            "Requirement already satisfied: distro<2,>=1.7.0 in /usr/lib/python3/dist-packages (from openai) (1.7.0)\n",
            "Collecting httpx<1,>=0.23.0 (from openai)\n",
            "  Downloading httpx-0.27.0-py3-none-any.whl.metadata (7.2 kB)\n",
            "Collecting jiter<1,>=0.4.0 (from openai)\n",
            "  Downloading jiter-0.5.0-cp310-cp310-manylinux_2_17_x86_64.manylinux2014_x86_64.whl.metadata (3.6 kB)\n",
            "Requirement already satisfied: pydantic<3,>=1.9.0 in /usr/local/lib/python3.10/dist-packages (from openai) (2.8.2)\n",
            "Requirement already satisfied: sniffio in /usr/local/lib/python3.10/dist-packages (from openai) (1.3.1)\n",
            "Requirement already satisfied: tqdm>4 in /usr/local/lib/python3.10/dist-packages (from openai) (4.66.5)\n",
            "Requirement already satisfied: typing-extensions<5,>=4.11 in /usr/local/lib/python3.10/dist-packages (from openai) (4.12.2)\n",
            "Requirement already satisfied: idna>=2.8 in /usr/local/lib/python3.10/dist-packages (from anyio<5,>=3.5.0->openai) (3.7)\n",
            "Requirement already satisfied: exceptiongroup in /usr/local/lib/python3.10/dist-packages (from anyio<5,>=3.5.0->openai) (1.2.2)\n",
            "Requirement already satisfied: certifi in /usr/local/lib/python3.10/dist-packages (from httpx<1,>=0.23.0->openai) (2024.7.4)\n",
            "Collecting httpcore==1.* (from httpx<1,>=0.23.0->openai)\n",
            "  Downloading httpcore-1.0.5-py3-none-any.whl.metadata (20 kB)\n",
            "Collecting h11<0.15,>=0.13 (from httpcore==1.*->httpx<1,>=0.23.0->openai)\n",
            "  Downloading h11-0.14.0-py3-none-any.whl.metadata (8.2 kB)\n",
            "Requirement already satisfied: annotated-types>=0.4.0 in /usr/local/lib/python3.10/dist-packages (from pydantic<3,>=1.9.0->openai) (0.7.0)\n",
            "Requirement already satisfied: pydantic-core==2.20.1 in /usr/local/lib/python3.10/dist-packages (from pydantic<3,>=1.9.0->openai) (2.20.1)\n",
            "Downloading openai-1.42.0-py3-none-any.whl (362 kB)\n",
            "\u001b[2K   \u001b[90m━━━━━━━━━━━━━━━━━━━━━━━━━━━━━━━━━━━━━━━━\u001b[0m \u001b[32m362.9/362.9 kB\u001b[0m \u001b[31m9.9 MB/s\u001b[0m eta \u001b[36m0:00:00\u001b[0m\n",
            "\u001b[?25hDownloading httpx-0.27.0-py3-none-any.whl (75 kB)\n",
            "\u001b[2K   \u001b[90m━━━━━━━━━━━━━━━━━━━━━━━━━━━━━━━━━━━━━━━━\u001b[0m \u001b[32m75.6/75.6 kB\u001b[0m \u001b[31m2.5 MB/s\u001b[0m eta \u001b[36m0:00:00\u001b[0m\n",
            "\u001b[?25hDownloading httpcore-1.0.5-py3-none-any.whl (77 kB)\n",
            "\u001b[2K   \u001b[90m━━━━━━━━━━━━━━━━━━━━━━━━━━━━━━━━━━━━━━━━\u001b[0m \u001b[32m77.9/77.9 kB\u001b[0m \u001b[31m3.0 MB/s\u001b[0m eta \u001b[36m0:00:00\u001b[0m\n",
            "\u001b[?25hDownloading jiter-0.5.0-cp310-cp310-manylinux_2_17_x86_64.manylinux2014_x86_64.whl (318 kB)\n",
            "\u001b[2K   \u001b[90m━━━━━━━━━━━━━━━━━━━━━━━━━━━━━━━━━━━━━━━━\u001b[0m \u001b[32m318.9/318.9 kB\u001b[0m \u001b[31m14.8 MB/s\u001b[0m eta \u001b[36m0:00:00\u001b[0m\n",
            "\u001b[?25hDownloading h11-0.14.0-py3-none-any.whl (58 kB)\n",
            "\u001b[2K   \u001b[90m━━━━━━━━━━━━━━━━━━━━━━━━━━━━━━━━━━━━━━━━\u001b[0m \u001b[32m58.3/58.3 kB\u001b[0m \u001b[31m1.1 MB/s\u001b[0m eta \u001b[36m0:00:00\u001b[0m\n",
            "\u001b[?25hInstalling collected packages: jiter, h11, httpcore, httpx, openai\n",
            "Successfully installed h11-0.14.0 httpcore-1.0.5 httpx-0.27.0 jiter-0.5.0 openai-1.42.0\n"
          ]
        }
      ],
      "source": [
        "# Install openai API package\n",
        "!pip install openai"
      ]
    },
    {
      "cell_type": "code",
      "execution_count": 2,
      "metadata": {
        "id": "O_5z5WC_XibQ"
      },
      "outputs": [],
      "source": [
        "# Import the openai module\n",
        "from openai import OpenAI\n",
        "# Import userdata to get access to Secret Variables In Colab\n",
        "from google.colab import userdata"
      ]
    },
    {
      "cell_type": "markdown",
      "metadata": {
        "id": "zDXVyTkqWfeb"
      },
      "source": [
        "# Add secret variable OPEN_AI_API_KEY to the Colab environment to be used for client initialisation"
      ]
    },
    {
      "cell_type": "code",
      "execution_count": 3,
      "metadata": {
        "id": "KsMbdc8YNx3B"
      },
      "outputs": [],
      "source": [
        "# Create a new client instance\n",
        "client = OpenAI(api_key=userdata.get('OPEN_AI_API_KEY'))"
      ]
    },
    {
      "cell_type": "code",
      "execution_count": 4,
      "metadata": {
        "id": "Nqt2ztfVWfeh"
      },
      "outputs": [],
      "source": [
        "# Enhanced function to generate the appropriate prompt based on the user's input.\n",
        "def handle_input(option, user_input):\n",
        "    prompts = {\n",
        "        \"2\": f\"Suggest a detailed recipe for {user_input}\",  # Ingredient-based\n",
        "        \"1\": f\"Suggest a detailed recipe for {user_input}\",  # Dish name request\n",
        "        \"3\": f\"I need your feedback on the recipe. Suggest improvements to the following recipe {user_input}: ...\"  # Recipe critique\n",
        "    }\n",
        "    return prompts.get(option, \"I can help with ingredient-based suggestions, recipe requests, or critiques. What would you like to do?\")"
      ]
    },
    {
      "cell_type": "markdown",
      "metadata": {
        "id": "aswWr48pYzSE"
      },
      "source": [
        "## Messages"
      ]
    },
    {
      "cell_type": "code",
      "execution_count": 5,
      "metadata": {
        "id": "UOExFtSMY169"
      },
      "outputs": [],
      "source": [
        "# Set the first message\n",
        "messages = [\n",
        "  {\n",
        "    \"role\": \"system\",\n",
        "    \"content\": \"You are an Spanish experienced chef specializing in vegetarian \\\n",
        "                cuisine. You are willing to help people by suggesting \\\n",
        "                detailed vegetarian recipes for dishes they want to cook. \\\n",
        "                If someone asks you about dishes or ingredients related to \\\n",
        "                meat or fish, politely tell them that you only handle \\\n",
        "                inquiries about vegetarian cuisine.\",\n",
        "  }\n",
        "]"
      ]
    },
    {
      "cell_type": "code",
      "execution_count": 6,
      "metadata": {
        "id": "w-5MZGOScVcE"
      },
      "outputs": [],
      "source": [
        "# Add another system instruction\n",
        "messages.append(\n",
        "  {\n",
        "    \"role\": \"system\",\n",
        "    \"content\": \"The client will ask you one of these three topics: \\\n",
        "                ingredient-based dish suggestions, recipe requests for \\\n",
        "                specific dishes or recipe critiques and improvement \\\n",
        "                suggestions. If you don't know the dish or the \\\n",
        "                ingredient, you should answer that you don't know the \\\n",
        "                dish or ingredient and end the conversation.\",\n",
        "  }\n",
        ")"
      ]
    },
    {
      "cell_type": "code",
      "execution_count": 7,
      "metadata": {
        "id": "RZV_sRHCeZ75"
      },
      "outputs": [],
      "source": [
        "# More instructions\n",
        "messages.append(\n",
        "  {\n",
        "    \"role\": \"system\",\n",
        "    \"content\": \"If the client tell you an ingredient, suggest only dish \\\n",
        "                names without full recipes. If you are asked for dish \\\n",
        "                name then provide a detailed recipe. If the client tells \\\n",
        "                you a recipe, offer suggested improvements.\",\n",
        "  }\n",
        ")"
      ]
    },
    {
      "cell_type": "code",
      "execution_count": 8,
      "metadata": {
        "id": "vvehKmXleZwp"
      },
      "outputs": [],
      "source": [
        "# Specify the model used\n",
        "model = \"gpt-4o-mini\""
      ]
    },
    {
      "cell_type": "code",
      "execution_count": 9,
      "metadata": {
        "colab": {
          "base_uri": "https://localhost:8080/"
        },
        "id": "FEzLKzbRgWeW",
        "outputId": "cebed355-5575-42dd-e4af-a5f9812d73ae"
      },
      "outputs": [
        {
          "name": "stdout",
          "output_type": "stream",
          "text": [
            "1. I want the recipe for an specific dish\n",
            "2. I want a recipe for an specific ingredient\n",
            "3. I want suggestions to improve a recipe that I know\n",
            "Choose an option (1-3): 1\n"
          ]
        }
      ],
      "source": [
        "# Menu\n",
        "while True:\n",
        "  print(\"1. I want the recipe for an specific dish\")\n",
        "  print(\"2. I want a recipe for an specific ingredient\")\n",
        "  print(\"3. I want suggestions to improve a recipe that I know\")\n",
        "  option = input(\"Choose an option (1-3): \")\n",
        "\n",
        "  if option in [\"1\", \"2\", \"3\"]:\n",
        "    break\n",
        "  else:\n",
        "    print(\"Invalid option. Please choose 1, 2, or 3.\")"
      ]
    },
    {
      "cell_type": "code",
      "execution_count": 10,
      "metadata": {
        "colab": {
          "base_uri": "https://localhost:8080/"
        },
        "id": "fw_dF3yqidSS",
        "outputId": "3951adf6-ac03-4b37-ec7f-9753b2e95c91"
      },
      "outputs": [
        {
          "name": "stdout",
          "output_type": "stream",
          "text": [
            "Enter the name of the dish you want the recipe for: ukrainian vegeterian soup\n"
          ]
        }
      ],
      "source": [
        "# Make the prompt\n",
        "if option == \"1\":\n",
        "  dish = input(\"Enter the name of the dish you want the recipe for: \")\n",
        "  #prompt = f\"Suggest a detailed recipe for {dish}.\"\n",
        "elif option == \"2\":\n",
        "  ingredient = input(\"Enter the name of the ingredient you want a recipe for: \")\n",
        "  #prompt = f\"Suggest a detailed recipe for {ingredient}.\"\n",
        "else:\n",
        "  recipe = input(\"Enter the recipe you want to improve: \")\n",
        "  #prompt = f\"Suggest improvements to the following recipe: {recipe}.\""
      ]
    },
    {
      "cell_type": "code",
      "execution_count": 11,
      "metadata": {
        "colab": {
          "base_uri": "https://localhost:8080/",
          "height": 35
        },
        "id": "vzLSEdLuWfey",
        "outputId": "89e8345f-f82f-4e49-9724-091c6df48a83"
      },
      "outputs": [
        {
          "data": {
            "application/vnd.google.colaboratory.intrinsic+json": {
              "type": "string"
            },
            "text/plain": [
              "'Suggest a detailed recipe for ukrainian vegeterian soup'"
            ]
          },
          "execution_count": 11,
          "metadata": {},
          "output_type": "execute_result"
        }
      ],
      "source": [
        "# Generate the prompt using the handle_input function\n",
        "prompt = handle_input(option, dish if option == \"1\" else ingredient if option == \"2\" else recipe)\n",
        "prompt"
      ]
    },
    {
      "cell_type": "code",
      "execution_count": 12,
      "metadata": {
        "id": "VEo_Nqc1jQeY"
      },
      "outputs": [],
      "source": [
        "# Add the user message\n",
        "messages.append(\n",
        "  {\n",
        "    \"role\": \"user\",\n",
        "    \"content\": prompt,\n",
        "  }\n",
        ")"
      ]
    },
    {
      "cell_type": "code",
      "execution_count": 13,
      "metadata": {
        "id": "1DZHCVJ9j0f2"
      },
      "outputs": [],
      "source": [
        "# Make the API call\n",
        "response = client.chat.completions.create(\n",
        "  model=model,\n",
        "  messages=messages,\n",
        ")"
      ]
    },
    {
      "cell_type": "code",
      "execution_count": 14,
      "metadata": {
        "colab": {
          "base_uri": "https://localhost:8080/"
        },
        "id": "69alDP7TkLfD",
        "outputId": "c2d768e6-6180-4f11-e759-999de9bb95b7"
      },
      "outputs": [
        {
          "name": "stdout",
          "output_type": "stream",
          "text": [
            "Certainly! Here’s a detailed recipe for a delicious Ukrainian vegetarian soup, known as Borscht, which is a traditional beet soup that can be made without meat.\n",
            "\n",
            "### Ukrainian Vegetarian Borscht\n",
            "\n",
            "#### Ingredients:\n",
            "- 2 medium beets, peeled and grated\n",
            "- 1 medium carrot, peeled and grated\n",
            "- 1 onion, finely chopped\n",
            "- 1 potato, peeled and diced\n",
            "- 1/4 head of cabbage, chopped\n",
            "- 2 cloves of garlic, minced\n",
            "- 1 tablespoon vegetable oil\n",
            "- 6 cups vegetable broth or water\n",
            "- 2 tablespoons tomato paste\n",
            "- 1 tablespoon apple cider vinegar (or to taste)\n",
            "- 1 teaspoon sugar\n",
            "- Salt and pepper to taste\n",
            "- Fresh dill, chopped (for garnish)\n",
            "- Sour cream or vegan sour cream (optional, for serving)\n",
            "\n",
            "#### Instructions:\n",
            "\n",
            "1. **Prepare the Vegetables:**\n",
            "   - Start by peeling and grating the beets and the carrot. Chop the onion, dice the potato, and chop the cabbage.\n",
            "\n",
            "2. **Sauté the Base:**\n",
            "   - In a large pot, heat the vegetable oil over medium heat. Add the chopped onion and sauté until it becomes translucent, about 5 minutes.\n",
            "   - Add the grated beets and carrots to the pot. Continue to sauté for another 5-7 minutes, stirring occasionally.\n",
            "\n",
            "3. **Add the Remaining Ingredients:**\n",
            "   - Stir in the tomato paste and mix well.\n",
            "   - Pour in the vegetable broth (or water), and bring the mixture to a boil.\n",
            "   - Once boiling, add the diced potatoes and chopped cabbage. Reduce the heat to low and let it simmer for about 20 minutes, or until the potatoes and cabbage are tender.\n",
            "\n",
            "4. **Final Seasoning:**\n",
            "   - Add the minced garlic, apple cider vinegar, sugar, salt, and pepper. Taste and adjust seasoning as needed (you may add more vinegar or sugar depending on your preference for sweetness or acidity).\n",
            "   - Allow the soup to simmer for an additional 5 minutes.\n",
            "\n",
            "5. **Serve:**\n",
            "   - Ladle the borscht into bowls and garnish with fresh dill. For an added touch, offer a dollop of sour cream or vegan sour cream on top.\n",
            "\n",
            "6. **Enjoy:**\n",
            "   - Borscht is often enjoyed with fresh bread and pairs well with pickles. This soup can be served hot or chilled.\n",
            "\n",
            "This vibrant and hearty soup is a wonderful representation of Ukrainian cuisine while being completely vegetarian. Enjoy your cooking!\n"
          ]
        }
      ],
      "source": [
        "# Show the result\n",
        "for choice in response.choices:\n",
        "  print(choice.message.content)"
      ]
    }
  ],
  "metadata": {
    "colab": {
      "provenance": [],
      "toc_visible": true
    },
    "kernelspec": {
      "display_name": "Python 3",
      "name": "python3"
    },
    "language_info": {
      "name": "python"
    }
  },
  "nbformat": 4,
  "nbformat_minor": 0
}
